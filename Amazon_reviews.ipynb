{
 "cells": [
  {
   "cell_type": "markdown",
   "metadata": {},
   "source": [
    "### Data are downloaded from:\n",
    "http://jmcauley.ucsd.edu/data/amazon/\n",
    "\n",
    "Notes:\n",
    "    * There are two types of datasets:\n",
    "        * Raw reviews datasets with only (user,item,rating,timestamp) tuples\n",
    "        * 5-core datasets: which have been reduced such that each of the remaining users and items have 5 reviews each. **We will further sort the dataset and pick only the top 5 products with the most number of reviews**.\n",
    "    * Start with the small data set first. Here, the smallest set is Musical Instruments with ~ 10k reviews."
   ]
  },
  {
   "cell_type": "code",
   "execution_count": 2,
   "metadata": {
    "collapsed": false
   },
   "outputs": [],
   "source": [
    "import pandas as pd\n",
    "import gzip\n",
    "\n",
    "def parse(path):\n",
    "  g = gzip.open(path, 'rb')\n",
    "  for l in g:\n",
    "    yield eval(l)\n",
    "\n",
    "def getDF(path):\n",
    "  i = 0\n",
    "  df = {}\n",
    "  for d in parse(path):\n",
    "    df[i] = d\n",
    "    i += 1\n",
    "  return pd.DataFrame.from_dict(df, orient='index')\n",
    "\n",
    "df = getDF('F:\\\\data\\\\reviews_Musical_Instruments_5.json.gz')"
   ]
  },
  {
   "cell_type": "code",
   "execution_count": 3,
   "metadata": {
    "collapsed": false
   },
   "outputs": [
    {
     "data": {
      "text/html": [
       "<div>\n",
       "<table border=\"1\" class=\"dataframe\">\n",
       "  <thead>\n",
       "    <tr style=\"text-align: right;\">\n",
       "      <th></th>\n",
       "      <th>reviewerName</th>\n",
       "      <th>helpful</th>\n",
       "      <th>reviewText</th>\n",
       "      <th>reviewTime</th>\n",
       "      <th>asin</th>\n",
       "      <th>overall</th>\n",
       "      <th>unixReviewTime</th>\n",
       "      <th>reviewerID</th>\n",
       "      <th>summary</th>\n",
       "    </tr>\n",
       "  </thead>\n",
       "  <tbody>\n",
       "    <tr>\n",
       "      <th>0</th>\n",
       "      <td>cassandra tu \"Yeah, well, that's just like, u...</td>\n",
       "      <td>[0, 0]</td>\n",
       "      <td>Not much to write about here, but it does exac...</td>\n",
       "      <td>02 28, 2014</td>\n",
       "      <td>1384719342</td>\n",
       "      <td>5.0</td>\n",
       "      <td>1393545600</td>\n",
       "      <td>A2IBPI20UZIR0U</td>\n",
       "      <td>good</td>\n",
       "    </tr>\n",
       "    <tr>\n",
       "      <th>1</th>\n",
       "      <td>Jake</td>\n",
       "      <td>[13, 14]</td>\n",
       "      <td>The product does exactly as it should and is q...</td>\n",
       "      <td>03 16, 2013</td>\n",
       "      <td>1384719342</td>\n",
       "      <td>5.0</td>\n",
       "      <td>1363392000</td>\n",
       "      <td>A14VAT5EAX3D9S</td>\n",
       "      <td>Jake</td>\n",
       "    </tr>\n",
       "    <tr>\n",
       "      <th>2</th>\n",
       "      <td>Rick Bennette \"Rick Bennette\"</td>\n",
       "      <td>[1, 1]</td>\n",
       "      <td>The primary job of this device is to block the...</td>\n",
       "      <td>08 28, 2013</td>\n",
       "      <td>1384719342</td>\n",
       "      <td>5.0</td>\n",
       "      <td>1377648000</td>\n",
       "      <td>A195EZSQDW3E21</td>\n",
       "      <td>It Does The Job Well</td>\n",
       "    </tr>\n",
       "    <tr>\n",
       "      <th>3</th>\n",
       "      <td>RustyBill \"Sunday Rocker\"</td>\n",
       "      <td>[0, 0]</td>\n",
       "      <td>Nice windscreen protects my MXL mic and preven...</td>\n",
       "      <td>02 14, 2014</td>\n",
       "      <td>1384719342</td>\n",
       "      <td>5.0</td>\n",
       "      <td>1392336000</td>\n",
       "      <td>A2C00NNG1ZQQG2</td>\n",
       "      <td>GOOD WINDSCREEN FOR THE MONEY</td>\n",
       "    </tr>\n",
       "    <tr>\n",
       "      <th>4</th>\n",
       "      <td>SEAN MASLANKA</td>\n",
       "      <td>[0, 0]</td>\n",
       "      <td>This pop filter is great. It looks and perform...</td>\n",
       "      <td>02 21, 2014</td>\n",
       "      <td>1384719342</td>\n",
       "      <td>5.0</td>\n",
       "      <td>1392940800</td>\n",
       "      <td>A94QU4C90B1AX</td>\n",
       "      <td>No more pops when I record my vocals.</td>\n",
       "    </tr>\n",
       "  </tbody>\n",
       "</table>\n",
       "</div>"
      ],
      "text/plain": [
       "                                       reviewerName   helpful  \\\n",
       "0  cassandra tu \"Yeah, well, that's just like, u...    [0, 0]   \n",
       "1                                              Jake  [13, 14]   \n",
       "2                     Rick Bennette \"Rick Bennette\"    [1, 1]   \n",
       "3                         RustyBill \"Sunday Rocker\"    [0, 0]   \n",
       "4                                     SEAN MASLANKA    [0, 0]   \n",
       "\n",
       "                                          reviewText   reviewTime        asin  \\\n",
       "0  Not much to write about here, but it does exac...  02 28, 2014  1384719342   \n",
       "1  The product does exactly as it should and is q...  03 16, 2013  1384719342   \n",
       "2  The primary job of this device is to block the...  08 28, 2013  1384719342   \n",
       "3  Nice windscreen protects my MXL mic and preven...  02 14, 2014  1384719342   \n",
       "4  This pop filter is great. It looks and perform...  02 21, 2014  1384719342   \n",
       "\n",
       "   overall  unixReviewTime      reviewerID  \\\n",
       "0      5.0      1393545600  A2IBPI20UZIR0U   \n",
       "1      5.0      1363392000  A14VAT5EAX3D9S   \n",
       "2      5.0      1377648000  A195EZSQDW3E21   \n",
       "3      5.0      1392336000  A2C00NNG1ZQQG2   \n",
       "4      5.0      1392940800   A94QU4C90B1AX   \n",
       "\n",
       "                                 summary  \n",
       "0                                   good  \n",
       "1                                   Jake  \n",
       "2                   It Does The Job Well  \n",
       "3          GOOD WINDSCREEN FOR THE MONEY  \n",
       "4  No more pops when I record my vocals.  "
      ]
     },
     "execution_count": 3,
     "metadata": {},
     "output_type": "execute_result"
    }
   ],
   "source": [
    "df.head()"
   ]
  },
  {
   "cell_type": "code",
   "execution_count": 4,
   "metadata": {
    "collapsed": false
   },
   "outputs": [
    {
     "data": {
      "text/plain": [
       "(10261, 9)"
      ]
     },
     "execution_count": 4,
     "metadata": {},
     "output_type": "execute_result"
    }
   ],
   "source": [
    "df.shape"
   ]
  },
  {
   "cell_type": "markdown",
   "metadata": {},
   "source": [
    "#### This dataset has around 10k reviews with 9 features"
   ]
  },
  {
   "cell_type": "code",
   "execution_count": 5,
   "metadata": {
    "collapsed": false
   },
   "outputs": [
    {
     "name": "stdout",
     "output_type": "stream",
     "text": [
      "<class 'pandas.core.frame.DataFrame'>\n",
      "Int64Index: 10261 entries, 0 to 10260\n",
      "Data columns (total 9 columns):\n",
      "reviewerName      10234 non-null object\n",
      "helpful           10261 non-null object\n",
      "reviewText        10261 non-null object\n",
      "reviewTime        10261 non-null object\n",
      "asin              10261 non-null object\n",
      "overall           10261 non-null float64\n",
      "unixReviewTime    10261 non-null int64\n",
      "reviewerID        10261 non-null object\n",
      "summary           10261 non-null object\n",
      "dtypes: float64(1), int64(1), object(7)\n",
      "memory usage: 801.6+ KB\n"
     ]
    }
   ],
   "source": [
    "df.info()"
   ]
  },
  {
   "cell_type": "markdown",
   "metadata": {},
   "source": [
    "* reviewerID - ID of the reviewer, e.g. A2SUAM1J3GNN3B\n",
    "* asin - ID of the product, e.g. 0000013714\n",
    "* reviewerName - name of the reviewer\n",
    "* helpful - helpfulness rating of the review, e.g. 2/3\n",
    "* reviewText - text of the review\n",
    "* overall - rating of the product\n",
    "* summary - summary of the review\n",
    "* unixReviewTime - time of the review (unix time)\n",
    "* reviewTime - time of the review (raw)"
   ]
  },
  {
   "cell_type": "markdown",
   "metadata": {},
   "source": [
    "## Questions:\n",
    "### How many products in this dataset? 900"
   ]
  },
  {
   "cell_type": "code",
   "execution_count": 6,
   "metadata": {
    "collapsed": false
   },
   "outputs": [
    {
     "data": {
      "text/plain": [
       "900"
      ]
     },
     "execution_count": 6,
     "metadata": {},
     "output_type": "execute_result"
    }
   ],
   "source": [
    "df['asin'].nunique()"
   ]
  },
  {
   "cell_type": "markdown",
   "metadata": {},
   "source": [
    "### Let's pick out aggregate the data by the product's id to count the number of reviews for each product. Then select the products with at least 100 reviews."
   ]
  },
  {
   "cell_type": "code",
   "execution_count": null,
   "metadata": {
    "collapsed": true
   },
   "outputs": [],
   "source": [
    "#sorted(df.groupby(['asin']).size(),reverse=True)#a list"
   ]
  },
  {
   "cell_type": "code",
   "execution_count": 41,
   "metadata": {
    "collapsed": false
   },
   "outputs": [],
   "source": [
    "#df.groupby('asin').size()#a series"
   ]
  },
  {
   "cell_type": "code",
   "execution_count": 42,
   "metadata": {
    "collapsed": false
   },
   "outputs": [],
   "source": [
    "#df.groupby('asin').size().clip(100)\n",
    "#df.groupby('asin').size().apply(lambda c: (c>100)*c)"
   ]
  },
  {
   "cell_type": "code",
   "execution_count": 43,
   "metadata": {
    "collapsed": false
   },
   "outputs": [
    {
     "data": {
      "text/plain": [
       "asin\n",
       "B003VWJ2K8    163\n",
       "B0002E1G5C    143\n",
       "B0002F7K7Y    116\n",
       "B003VWKPHC    114\n",
       "B0002H0A3S     93\n",
       "dtype: int64"
      ]
     },
     "execution_count": 43,
     "metadata": {},
     "output_type": "execute_result"
    }
   ],
   "source": [
    "df.groupby('asin').size().sort_values(ascending=False)[:5]"
   ]
  },
  {
   "cell_type": "code",
   "execution_count": 44,
   "metadata": {
    "collapsed": false
   },
   "outputs": [
    {
     "data": {
      "text/plain": [
       "['B003VWJ2K8', 'B0002E1G5C', 'B0002F7K7Y', 'B003VWKPHC', 'B0002H0A3S']"
      ]
     },
     "execution_count": 44,
     "metadata": {},
     "output_type": "execute_result"
    }
   ],
   "source": [
    "list(df.asin.value_counts()[:5].index)"
   ]
  },
  {
   "cell_type": "code",
   "execution_count": 46,
   "metadata": {
    "collapsed": false
   },
   "outputs": [
    {
     "name": "stdout",
     "output_type": "stream",
     "text": [
      "['B003VWJ2K8', 'B0002E1G5C', 'B0002F7K7Y', 'B003VWKPHC']\n"
     ]
    }
   ],
   "source": [
    "at_least_100 = list(df.asin.value_counts()[df.asin.value_counts() >100].index)\n",
    "print(at_least_100)"
   ]
  },
  {
   "cell_type": "code",
   "execution_count": 47,
   "metadata": {
    "collapsed": false
   },
   "outputs": [],
   "source": [
    "#top_n_rows(df,'asin',5)"
   ]
  },
  {
   "cell_type": "code",
   "execution_count": 48,
   "metadata": {
    "collapsed": true
   },
   "outputs": [],
   "source": [
    "import matplotlib.pyplot as plt\n",
    "%matplotlib inline"
   ]
  },
  {
   "cell_type": "code",
   "execution_count": 50,
   "metadata": {
    "collapsed": false
   },
   "outputs": [
    {
     "data": {
      "image/png": "[encoded data removed]",
      "text/plain": [
       "<matplotlib.figure.Figure at 0xadaa8d0>"
      ]
     },
     "metadata": {},
     "output_type": "display_data"
    },
    {
     "data": {
      "image/png": "[encoded data removed]",
      "text/plain": [
       "<matplotlib.figure.Figure at 0xae75a20>"
      ]
     },
     "metadata": {},
     "output_type": "display_data"
    },
    {
     "data": {
      "image/png": "[encoded data removed]",
      "text/plain": [
       "<matplotlib.figure.Figure at 0xa9a9dd8>"
      ]
     },
     "metadata": {},
     "output_type": "display_data"
    },
    {
     "data": {
      "image/png": "[encoded data removed]",
      "text/plain": [
       "<matplotlib.figure.Figure at 0xae75940>"
      ]
     },
     "metadata": {},
     "output_type": "display_data"
    }
   ],
   "source": [
    "for item_id in at_least_100:\n",
    "    df_all_revs_that_item = df.loc[df['asin'] == item_id] #a dataframe\n",
    "    \n",
    "    ### Need to sort the reviews by review time\n",
    "    df_all_revs_that_item_sorted_by_dates = df_all_revs_that_item.sort_values('unixReviewTime', ascending=True)\n",
    "    \n",
    "    #find that item mean rating\n",
    "    df_that_item_mean_rating = df_all_revs_that_item['overall'].mean()\n",
    "    \n",
    "    #find earliest and latest review dates\n",
    "    earliest = df_all_revs_that_item['unixReviewTime'].min()\n",
    "    latest =   df_all_revs_that_item['unixReviewTime'].max()\n",
    "    \n",
    "    #plot the rating against time vs mean rating\n",
    "    plt.scatter(df_all_revs_that_item_sorted_by_dates['unixReviewTime'], df_all_revs_that_item_sorted_by_dates['overall'])\n",
    "    plt.hlines(df_that_item_mean_rating, earliest, latest)\n",
    "    plt.show()\n",
    "    "
   ]
  },
  {
   "cell_type": "code",
   "execution_count": 18,
   "metadata": {
    "collapsed": false
   },
   "outputs": [
    {
     "data": {
      "text/plain": [
       "<matplotlib.text.Text at 0x431aeb00>"
      ]
     },
     "execution_count": 18,
     "metadata": {},
     "output_type": "execute_result"
    },
    {
     "data": {
      "image/png": "[encoded data removed]",
      "text/plain": [
       "<matplotlib.figure.Figure at 0x4e5744a8>"
      ]
     },
     "metadata": {},
     "output_type": "display_data"
    }
   ],
   "source": [
    "plt.hist(df2['overall'])\n",
    "plt.title(\"Average ratings\")\n",
    "plt.xlabel(\"Value\")\n",
    "plt.ylabel(\"Frequency\")"
   ]
  },
  {
   "cell_type": "code",
   "execution_count": 52,
   "metadata": {
    "collapsed": false
   },
   "outputs": [
    {
     "data": {
      "text/plain": [
       "[<matplotlib.lines.Line2D at 0x98a31390>]"
      ]
     },
     "execution_count": 52,
     "metadata": {},
     "output_type": "execute_result"
    },
    {
     "data": {
      "image/png": "[encoded data removed]",
      "text/plain": [
       "<matplotlib.figure.Figure at 0x9d3baba8>"
      ]
     },
     "metadata": {},
     "output_type": "display_data"
    }
   ],
   "source": [
    "plt.plot(df2['overall'],df2['overall'])"
   ]
  },
  {
   "cell_type": "markdown",
   "metadata": {},
   "source": [
    "### Which product has the most number of reviews?"
   ]
  },
  {
   "cell_type": "code",
   "execution_count": 23,
   "metadata": {
    "collapsed": false
   },
   "outputs": [
    {
     "data": {
      "text/plain": [
       "asin\n",
       "0528881469      5\n",
       "0594451647      5\n",
       "0594481813      8\n",
       "0972683275    219\n",
       "1400501466     43\n",
       "dtype: int64"
      ]
     },
     "execution_count": 23,
     "metadata": {},
     "output_type": "execute_result"
    }
   ],
   "source": [
    "df3 = df[['asin','overall']].dropna().groupby(['asin']).size() \n",
    "#df3 is just a pandas series\n",
    "df3.head()"
   ]
  },
  {
   "cell_type": "code",
   "execution_count": 24,
   "metadata": {
    "collapsed": false
   },
   "outputs": [
    {
     "data": {
      "text/plain": [
       "4915"
      ]
     },
     "execution_count": 24,
     "metadata": {},
     "output_type": "execute_result"
    }
   ],
   "source": [
    "df3.max()"
   ]
  },
  {
   "cell_type": "code",
   "execution_count": 30,
   "metadata": {
    "collapsed": false
   },
   "outputs": [
    {
     "data": {
      "text/html": [
       "<div>\n",
       "<table border=\"1\" class=\"dataframe\">\n",
       "  <thead>\n",
       "    <tr style=\"text-align: right;\">\n",
       "      <th></th>\n",
       "      <th>counts</th>\n",
       "    </tr>\n",
       "    <tr>\n",
       "      <th>asin</th>\n",
       "      <th></th>\n",
       "    </tr>\n",
       "  </thead>\n",
       "  <tbody>\n",
       "    <tr>\n",
       "      <th>0528881469</th>\n",
       "      <td>5</td>\n",
       "    </tr>\n",
       "    <tr>\n",
       "      <th>0594451647</th>\n",
       "      <td>5</td>\n",
       "    </tr>\n",
       "    <tr>\n",
       "      <th>0594481813</th>\n",
       "      <td>8</td>\n",
       "    </tr>\n",
       "    <tr>\n",
       "      <th>0972683275</th>\n",
       "      <td>219</td>\n",
       "    </tr>\n",
       "    <tr>\n",
       "      <th>1400501466</th>\n",
       "      <td>43</td>\n",
       "    </tr>\n",
       "  </tbody>\n",
       "</table>\n",
       "</div>"
      ],
      "text/plain": [
       "            counts\n",
       "asin              \n",
       "0528881469       5\n",
       "0594451647       5\n",
       "0594481813       8\n",
       "0972683275     219\n",
       "1400501466      43"
      ]
     },
     "execution_count": 30,
     "metadata": {},
     "output_type": "execute_result"
    }
   ],
   "source": [
    "#to have df3 as a dataframe instead:\n",
    "df3 = pd.DataFrame(df[['asin','overall']].dropna().groupby(['asin']).size().rename(('counts')))\n",
    "df3.head()"
   ]
  },
  {
   "cell_type": "code",
   "execution_count": 33,
   "metadata": {
    "collapsed": false
   },
   "outputs": [
    {
     "data": {
      "text/plain": [
       "<matplotlib.text.Text at 0x1338cac8>"
      ]
     },
     "execution_count": 33,
     "metadata": {},
     "output_type": "execute_result"
    },
    {
     "data": {
      "image/png": "[encoded data removed]",
      "text/plain": [
       "<matplotlib.figure.Figure at 0x22ceca58>"
      ]
     },
     "metadata": {},
     "output_type": "display_data"
    }
   ],
   "source": [
    "plt.hist(df3['counts'])\n",
    "plt.title(\"Total Counts of Reviews\")\n",
    "plt.xlabel(\"Value\")\n",
    "plt.ylabel(\"Frequency\")"
   ]
  },
  {
   "cell_type": "code",
   "execution_count": 35,
   "metadata": {
    "collapsed": false
   },
   "outputs": [
    {
     "data": {
      "text/plain": [
       "<matplotlib.text.Text at 0x67bdba58>"
      ]
     },
     "execution_count": 35,
     "metadata": {},
     "output_type": "execute_result"
    },
    {
     "data": {
      "image/png": "[encoded data removed]",
      "text/plain": [
       "<matplotlib.figure.Figure at 0x6c524ba8>"
      ]
     },
     "metadata": {},
     "output_type": "display_data"
    }
   ],
   "source": [
    "plt.hist(df3['counts'], bins=range(0, 1000))\n",
    "plt.title(\"Total Counts of Reviews\")\n",
    "plt.xlabel(\"Value\")\n",
    "plt.ylabel(\"Frequency\")"
   ]
  },
  {
   "cell_type": "code",
   "execution_count": 36,
   "metadata": {
    "collapsed": false
   },
   "outputs": [
    {
     "data": {
      "text/plain": [
       "<matplotlib.text.Text at 0x25fc29b0>"
      ]
     },
     "execution_count": 36,
     "metadata": {},
     "output_type": "execute_result"
    },
    {
     "data": {
      "image/png": "[encoded data removed]",
      "text/plain": [
       "<matplotlib.figure.Figure at 0x1b8c4550>"
      ]
     },
     "metadata": {},
     "output_type": "display_data"
    }
   ],
   "source": [
    "plt.hist(df3['counts'], bins=range(0, 100))\n",
    "plt.title(\"Total Counts of Reviews\")\n",
    "plt.xlabel(\"Value\")\n",
    "plt.ylabel(\"Frequency\")"
   ]
  },
  {
   "cell_type": "markdown",
   "metadata": {},
   "source": [
    "** So one interesting observation is that products with high average ratings constitute the major counts of all reviews. However, the major counts of the reviews belong to products with low number of reviews."
   ]
  },
  {
   "cell_type": "code",
   "execution_count": 39,
   "metadata": {
    "collapsed": false
   },
   "outputs": [
    {
     "data": {
      "text/html": [
       "<div>\n",
       "<table border=\"1\" class=\"dataframe\">\n",
       "  <thead>\n",
       "    <tr style=\"text-align: right;\">\n",
       "      <th></th>\n",
       "      <th>counts</th>\n",
       "    </tr>\n",
       "    <tr>\n",
       "      <th>asin</th>\n",
       "      <th></th>\n",
       "    </tr>\n",
       "  </thead>\n",
       "  <tbody>\n",
       "    <tr>\n",
       "      <th>0972683275</th>\n",
       "      <td>219</td>\n",
       "    </tr>\n",
       "    <tr>\n",
       "      <th>1400501466</th>\n",
       "      <td>43</td>\n",
       "    </tr>\n",
       "    <tr>\n",
       "      <th>1400501520</th>\n",
       "      <td>20</td>\n",
       "    </tr>\n",
       "    <tr>\n",
       "      <th>1400501776</th>\n",
       "      <td>20</td>\n",
       "    </tr>\n",
       "    <tr>\n",
       "      <th>1400532620</th>\n",
       "      <td>41</td>\n",
       "    </tr>\n",
       "  </tbody>\n",
       "</table>\n",
       "</div>"
      ],
      "text/plain": [
       "            counts\n",
       "asin              \n",
       "0972683275     219\n",
       "1400501466      43\n",
       "1400501520      20\n",
       "1400501776      20\n",
       "1400532620      41"
      ]
     },
     "execution_count": 39,
     "metadata": {},
     "output_type": "execute_result"
    }
   ],
   "source": [
    "df4 = df3[df3['counts']>=20]\n",
    "df4.head()"
   ]
  },
  {
   "cell_type": "code",
   "execution_count": 40,
   "metadata": {
    "collapsed": false
   },
   "outputs": [
    {
     "data": {
      "text/plain": [
       "(18156, 1)"
      ]
     },
     "execution_count": 40,
     "metadata": {},
     "output_type": "execute_result"
    }
   ],
   "source": [
    "df4.shape"
   ]
  },
  {
   "cell_type": "markdown",
   "metadata": {},
   "source": [
    "a df with each product in a row, where columns are reviews sorted by date."
   ]
  },
  {
   "cell_type": "markdown",
   "metadata": {},
   "source": [
    "### Q: Find the most useful review of each product. What are their ratings?"
   ]
  },
  {
   "cell_type": "code",
   "execution_count": 49,
   "metadata": {
    "collapsed": false
   },
   "outputs": [
    {
     "data": {
      "text/html": [
       "<div>\n",
       "<table border=\"1\" class=\"dataframe\">\n",
       "  <thead>\n",
       "    <tr style=\"text-align: right;\">\n",
       "      <th></th>\n",
       "      <th>reviewerName</th>\n",
       "      <th>overall</th>\n",
       "      <th>reviewTime</th>\n",
       "      <th>helpful</th>\n",
       "      <th>unixReviewTime</th>\n",
       "      <th>summary</th>\n",
       "      <th>reviewText</th>\n",
       "      <th>reviewerID</th>\n",
       "      <th>asin</th>\n",
       "    </tr>\n",
       "  </thead>\n",
       "  <tbody>\n",
       "    <tr>\n",
       "      <th>0</th>\n",
       "      <td>amazdnu</td>\n",
       "      <td>5.0</td>\n",
       "      <td>06 2, 2013</td>\n",
       "      <td>[0, 0]</td>\n",
       "      <td>1370131200</td>\n",
       "      <td>Gotta have GPS!</td>\n",
       "      <td>We got this GPS for my husband who is an (OTR)...</td>\n",
       "      <td>AO94DHGC771SJ</td>\n",
       "      <td>0528881469</td>\n",
       "    </tr>\n",
       "    <tr>\n",
       "      <th>1</th>\n",
       "      <td>Amazon Customer</td>\n",
       "      <td>1.0</td>\n",
       "      <td>11 25, 2010</td>\n",
       "      <td>[12, 15]</td>\n",
       "      <td>1290643200</td>\n",
       "      <td>Very Disappointed</td>\n",
       "      <td>I'm a professional OTR truck driver, and I bou...</td>\n",
       "      <td>AMO214LNFCEI4</td>\n",
       "      <td>0528881469</td>\n",
       "    </tr>\n",
       "    <tr>\n",
       "      <th>2</th>\n",
       "      <td>C. A. Freeman</td>\n",
       "      <td>3.0</td>\n",
       "      <td>09 9, 2010</td>\n",
       "      <td>[43, 45]</td>\n",
       "      <td>1283990400</td>\n",
       "      <td>1st impression</td>\n",
       "      <td>Well, what can I say.  I've had this unit in m...</td>\n",
       "      <td>A3N7T0DY83Y4IG</td>\n",
       "      <td>0528881469</td>\n",
       "    </tr>\n",
       "    <tr>\n",
       "      <th>3</th>\n",
       "      <td>Dave M. Shaw \"mack dave\"</td>\n",
       "      <td>2.0</td>\n",
       "      <td>11 24, 2010</td>\n",
       "      <td>[9, 10]</td>\n",
       "      <td>1290556800</td>\n",
       "      <td>Great grafics, POOR GPS</td>\n",
       "      <td>Not going to write a long review, even thought...</td>\n",
       "      <td>A1H8PY3QHMQQA0</td>\n",
       "      <td>0528881469</td>\n",
       "    </tr>\n",
       "    <tr>\n",
       "      <th>4</th>\n",
       "      <td>Wayne Smith</td>\n",
       "      <td>1.0</td>\n",
       "      <td>09 29, 2011</td>\n",
       "      <td>[0, 0]</td>\n",
       "      <td>1317254400</td>\n",
       "      <td>Major issues, only excuses for support</td>\n",
       "      <td>I've had mine for a year and here's what we go...</td>\n",
       "      <td>A24EV6RXELQZ63</td>\n",
       "      <td>0528881469</td>\n",
       "    </tr>\n",
       "  </tbody>\n",
       "</table>\n",
       "</div>"
      ],
      "text/plain": [
       "               reviewerName  overall   reviewTime   helpful  unixReviewTime  \\\n",
       "0                   amazdnu      5.0   06 2, 2013    [0, 0]      1370131200   \n",
       "1           Amazon Customer      1.0  11 25, 2010  [12, 15]      1290643200   \n",
       "2             C. A. Freeman      3.0   09 9, 2010  [43, 45]      1283990400   \n",
       "3  Dave M. Shaw \"mack dave\"      2.0  11 24, 2010   [9, 10]      1290556800   \n",
       "4               Wayne Smith      1.0  09 29, 2011    [0, 0]      1317254400   \n",
       "\n",
       "                                  summary  \\\n",
       "0                         Gotta have GPS!   \n",
       "1                       Very Disappointed   \n",
       "2                          1st impression   \n",
       "3                 Great grafics, POOR GPS   \n",
       "4  Major issues, only excuses for support   \n",
       "\n",
       "                                          reviewText      reviewerID  \\\n",
       "0  We got this GPS for my husband who is an (OTR)...   AO94DHGC771SJ   \n",
       "1  I'm a professional OTR truck driver, and I bou...   AMO214LNFCEI4   \n",
       "2  Well, what can I say.  I've had this unit in m...  A3N7T0DY83Y4IG   \n",
       "3  Not going to write a long review, even thought...  A1H8PY3QHMQQA0   \n",
       "4  I've had mine for a year and here's what we go...  A24EV6RXELQZ63   \n",
       "\n",
       "         asin  \n",
       "0  0528881469  \n",
       "1  0528881469  \n",
       "2  0528881469  \n",
       "3  0528881469  \n",
       "4  0528881469  "
      ]
     },
     "execution_count": 49,
     "metadata": {},
     "output_type": "execute_result"
    }
   ],
   "source": [
    "df.head()"
   ]
  },
  {
   "cell_type": "code",
   "execution_count": 57,
   "metadata": {
    "collapsed": false
   },
   "outputs": [],
   "source": [
    "#plt.plot(df['overall'],df['overall'])\n",
    "def helpful_yes(helpful):\n",
    "    yes = helpful[0]\n",
    "    return yes"
   ]
  },
  {
   "cell_type": "code",
   "execution_count": 66,
   "metadata": {
    "collapsed": false
   },
   "outputs": [
    {
     "data": {
      "text/plain": [
       "0"
      ]
     },
     "execution_count": 66,
     "metadata": {},
     "output_type": "execute_result"
    }
   ],
   "source": [
    "helpful_yes(df['helpful'][0])"
   ]
  },
  {
   "cell_type": "code",
   "execution_count": 70,
   "metadata": {
    "collapsed": false
   },
   "outputs": [],
   "source": [
    "df['helpful_yes'] = df['helpful'].apply(lambda x: int(x[0]))"
   ]
  },
  {
   "cell_type": "code",
   "execution_count": 71,
   "metadata": {
    "collapsed": false
   },
   "outputs": [
    {
     "data": {
      "text/html": [
       "<div>\n",
       "<table border=\"1\" class=\"dataframe\">\n",
       "  <thead>\n",
       "    <tr style=\"text-align: right;\">\n",
       "      <th></th>\n",
       "      <th>reviewerName</th>\n",
       "      <th>overall</th>\n",
       "      <th>reviewTime</th>\n",
       "      <th>helpful</th>\n",
       "      <th>unixReviewTime</th>\n",
       "      <th>summary</th>\n",
       "      <th>reviewText</th>\n",
       "      <th>reviewerID</th>\n",
       "      <th>asin</th>\n",
       "      <th>helpful_yes</th>\n",
       "    </tr>\n",
       "  </thead>\n",
       "  <tbody>\n",
       "    <tr>\n",
       "      <th>0</th>\n",
       "      <td>amazdnu</td>\n",
       "      <td>5.0</td>\n",
       "      <td>06 2, 2013</td>\n",
       "      <td>[0, 0]</td>\n",
       "      <td>1370131200</td>\n",
       "      <td>Gotta have GPS!</td>\n",
       "      <td>We got this GPS for my husband who is an (OTR)...</td>\n",
       "      <td>AO94DHGC771SJ</td>\n",
       "      <td>0528881469</td>\n",
       "      <td>0</td>\n",
       "    </tr>\n",
       "    <tr>\n",
       "      <th>1</th>\n",
       "      <td>Amazon Customer</td>\n",
       "      <td>1.0</td>\n",
       "      <td>11 25, 2010</td>\n",
       "      <td>[12, 15]</td>\n",
       "      <td>1290643200</td>\n",
       "      <td>Very Disappointed</td>\n",
       "      <td>I'm a professional OTR truck driver, and I bou...</td>\n",
       "      <td>AMO214LNFCEI4</td>\n",
       "      <td>0528881469</td>\n",
       "      <td>12</td>\n",
       "    </tr>\n",
       "    <tr>\n",
       "      <th>2</th>\n",
       "      <td>C. A. Freeman</td>\n",
       "      <td>3.0</td>\n",
       "      <td>09 9, 2010</td>\n",
       "      <td>[43, 45]</td>\n",
       "      <td>1283990400</td>\n",
       "      <td>1st impression</td>\n",
       "      <td>Well, what can I say.  I've had this unit in m...</td>\n",
       "      <td>A3N7T0DY83Y4IG</td>\n",
       "      <td>0528881469</td>\n",
       "      <td>43</td>\n",
       "    </tr>\n",
       "    <tr>\n",
       "      <th>3</th>\n",
       "      <td>Dave M. Shaw \"mack dave\"</td>\n",
       "      <td>2.0</td>\n",
       "      <td>11 24, 2010</td>\n",
       "      <td>[9, 10]</td>\n",
       "      <td>1290556800</td>\n",
       "      <td>Great grafics, POOR GPS</td>\n",
       "      <td>Not going to write a long review, even thought...</td>\n",
       "      <td>A1H8PY3QHMQQA0</td>\n",
       "      <td>0528881469</td>\n",
       "      <td>9</td>\n",
       "    </tr>\n",
       "    <tr>\n",
       "      <th>4</th>\n",
       "      <td>Wayne Smith</td>\n",
       "      <td>1.0</td>\n",
       "      <td>09 29, 2011</td>\n",
       "      <td>[0, 0]</td>\n",
       "      <td>1317254400</td>\n",
       "      <td>Major issues, only excuses for support</td>\n",
       "      <td>I've had mine for a year and here's what we go...</td>\n",
       "      <td>A24EV6RXELQZ63</td>\n",
       "      <td>0528881469</td>\n",
       "      <td>0</td>\n",
       "    </tr>\n",
       "  </tbody>\n",
       "</table>\n",
       "</div>"
      ],
      "text/plain": [
       "               reviewerName  overall   reviewTime   helpful  unixReviewTime  \\\n",
       "0                   amazdnu      5.0   06 2, 2013    [0, 0]      1370131200   \n",
       "1           Amazon Customer      1.0  11 25, 2010  [12, 15]      1290643200   \n",
       "2             C. A. Freeman      3.0   09 9, 2010  [43, 45]      1283990400   \n",
       "3  Dave M. Shaw \"mack dave\"      2.0  11 24, 2010   [9, 10]      1290556800   \n",
       "4               Wayne Smith      1.0  09 29, 2011    [0, 0]      1317254400   \n",
       "\n",
       "                                  summary  \\\n",
       "0                         Gotta have GPS!   \n",
       "1                       Very Disappointed   \n",
       "2                          1st impression   \n",
       "3                 Great grafics, POOR GPS   \n",
       "4  Major issues, only excuses for support   \n",
       "\n",
       "                                          reviewText      reviewerID  \\\n",
       "0  We got this GPS for my husband who is an (OTR)...   AO94DHGC771SJ   \n",
       "1  I'm a professional OTR truck driver, and I bou...   AMO214LNFCEI4   \n",
       "2  Well, what can I say.  I've had this unit in m...  A3N7T0DY83Y4IG   \n",
       "3  Not going to write a long review, even thought...  A1H8PY3QHMQQA0   \n",
       "4  I've had mine for a year and here's what we go...  A24EV6RXELQZ63   \n",
       "\n",
       "         asin  helpful_yes  \n",
       "0  0528881469            0  \n",
       "1  0528881469           12  \n",
       "2  0528881469           43  \n",
       "3  0528881469            9  \n",
       "4  0528881469            0  "
      ]
     },
     "execution_count": 71,
     "metadata": {},
     "output_type": "execute_result"
    }
   ],
   "source": [
    "df.head()"
   ]
  },
  {
   "cell_type": "code",
   "execution_count": 89,
   "metadata": {
    "collapsed": false
   },
   "outputs": [
    {
     "data": {
      "text/plain": [
       "'We got this GPS for my husband who is an (OTR) over the road trucker.  Very Impressed with the shipping time, it arrived a few days earlier than expected...  within a week of use however it started freezing up... could of just been a glitch in that unit.  Worked great when it worked!  Will work great for the normal person as well but does have the \"trucker\" option. (the big truck routes - tells you when a scale is coming up ect...)  Love the bigger screen, the ease of use, the ease of putting addresses into memory.  Nothing really bad to say about the unit with the exception of it freezing which is probably one in a million and that\\'s just my luck.  I contacted the seller and within minutes of my email I received a email back with instructions for an exchange! VERY impressed all the way around!'"
      ]
     },
     "execution_count": 89,
     "metadata": {},
     "output_type": "execute_result"
    }
   ],
   "source": [
    "df['reviewText'][0]"
   ]
  },
  {
   "cell_type": "code",
   "execution_count": 73,
   "metadata": {
    "collapsed": false
   },
   "outputs": [
    {
     "data": {
      "text/plain": [
       "30735"
      ]
     },
     "execution_count": 73,
     "metadata": {},
     "output_type": "execute_result"
    }
   ],
   "source": [
    "df['helpful_yes'].max()"
   ]
  },
  {
   "cell_type": "code",
   "execution_count": 75,
   "metadata": {
    "collapsed": false
   },
   "outputs": [],
   "source": [
    "df5 = pd.DataFrame(df[['asin','helpful_yes']].dropna().groupby(['asin']).sum())"
   ]
  },
  {
   "cell_type": "code",
   "execution_count": 76,
   "metadata": {
    "collapsed": false
   },
   "outputs": [
    {
     "data": {
      "text/html": [
       "<div>\n",
       "<table border=\"1\" class=\"dataframe\">\n",
       "  <thead>\n",
       "    <tr style=\"text-align: right;\">\n",
       "      <th></th>\n",
       "      <th>helpful_yes</th>\n",
       "    </tr>\n",
       "    <tr>\n",
       "      <th>asin</th>\n",
       "      <th></th>\n",
       "    </tr>\n",
       "  </thead>\n",
       "  <tbody>\n",
       "    <tr>\n",
       "      <th>0528881469</th>\n",
       "      <td>64</td>\n",
       "    </tr>\n",
       "    <tr>\n",
       "      <th>0594451647</th>\n",
       "      <td>6</td>\n",
       "    </tr>\n",
       "    <tr>\n",
       "      <th>0594481813</th>\n",
       "      <td>10</td>\n",
       "    </tr>\n",
       "    <tr>\n",
       "      <th>0972683275</th>\n",
       "      <td>207</td>\n",
       "    </tr>\n",
       "    <tr>\n",
       "      <th>1400501466</th>\n",
       "      <td>186</td>\n",
       "    </tr>\n",
       "  </tbody>\n",
       "</table>\n",
       "</div>"
      ],
      "text/plain": [
       "            helpful_yes\n",
       "asin                   \n",
       "0528881469           64\n",
       "0594451647            6\n",
       "0594481813           10\n",
       "0972683275          207\n",
       "1400501466          186"
      ]
     },
     "execution_count": 76,
     "metadata": {},
     "output_type": "execute_result"
    }
   ],
   "source": [
    "df5.head()"
   ]
  },
  {
   "cell_type": "code",
   "execution_count": 77,
   "metadata": {
    "collapsed": false
   },
   "outputs": [
    {
     "data": {
      "text/plain": [
       "54042"
      ]
     },
     "execution_count": 77,
     "metadata": {},
     "output_type": "execute_result"
    }
   ],
   "source": [
    "df5['helpful_yes'].max()"
   ]
  },
  {
   "cell_type": "code",
   "execution_count": 78,
   "metadata": {
    "collapsed": false
   },
   "outputs": [
    {
     "data": {
      "text/html": [
       "<div>\n",
       "<table border=\"1\" class=\"dataframe\">\n",
       "  <thead>\n",
       "    <tr style=\"text-align: right;\">\n",
       "      <th></th>\n",
       "      <th>overall</th>\n",
       "    </tr>\n",
       "    <tr>\n",
       "      <th>asin</th>\n",
       "      <th></th>\n",
       "    </tr>\n",
       "  </thead>\n",
       "  <tbody>\n",
       "    <tr>\n",
       "      <th>0528881469</th>\n",
       "      <td>2.400000</td>\n",
       "    </tr>\n",
       "    <tr>\n",
       "      <th>0594451647</th>\n",
       "      <td>4.200000</td>\n",
       "    </tr>\n",
       "    <tr>\n",
       "      <th>0594481813</th>\n",
       "      <td>4.000000</td>\n",
       "    </tr>\n",
       "    <tr>\n",
       "      <th>0972683275</th>\n",
       "      <td>4.461187</td>\n",
       "    </tr>\n",
       "    <tr>\n",
       "      <th>1400501466</th>\n",
       "      <td>3.953488</td>\n",
       "    </tr>\n",
       "  </tbody>\n",
       "</table>\n",
       "</div>"
      ],
      "text/plain": [
       "             overall\n",
       "asin                \n",
       "0528881469  2.400000\n",
       "0594451647  4.200000\n",
       "0594481813  4.000000\n",
       "0972683275  4.461187\n",
       "1400501466  3.953488"
      ]
     },
     "execution_count": 78,
     "metadata": {},
     "output_type": "execute_result"
    }
   ],
   "source": [
    "df2.head()"
   ]
  },
  {
   "cell_type": "code",
   "execution_count": 82,
   "metadata": {
    "collapsed": false
   },
   "outputs": [
    {
     "data": {
      "text/plain": [
       "(63001, 1)"
      ]
     },
     "execution_count": 82,
     "metadata": {},
     "output_type": "execute_result"
    }
   ],
   "source": [
    "df5.shape"
   ]
  },
  {
   "cell_type": "code",
   "execution_count": 83,
   "metadata": {
    "collapsed": true
   },
   "outputs": [],
   "source": [
    "#df6 = pd.merge(df2, df5, on='NPI', how='inner')\n",
    "df5 = pd.merge(df2,df5, left_index = True, right_index=True)"
   ]
  },
  {
   "cell_type": "code",
   "execution_count": 84,
   "metadata": {
    "collapsed": false
   },
   "outputs": [
    {
     "data": {
      "text/html": [
       "<div>\n",
       "<table border=\"1\" class=\"dataframe\">\n",
       "  <thead>\n",
       "    <tr style=\"text-align: right;\">\n",
       "      <th></th>\n",
       "      <th>overall</th>\n",
       "      <th>helpful_yes</th>\n",
       "    </tr>\n",
       "    <tr>\n",
       "      <th>asin</th>\n",
       "      <th></th>\n",
       "      <th></th>\n",
       "    </tr>\n",
       "  </thead>\n",
       "  <tbody>\n",
       "    <tr>\n",
       "      <th>0528881469</th>\n",
       "      <td>2.400000</td>\n",
       "      <td>64</td>\n",
       "    </tr>\n",
       "    <tr>\n",
       "      <th>0594451647</th>\n",
       "      <td>4.200000</td>\n",
       "      <td>6</td>\n",
       "    </tr>\n",
       "    <tr>\n",
       "      <th>0594481813</th>\n",
       "      <td>4.000000</td>\n",
       "      <td>10</td>\n",
       "    </tr>\n",
       "    <tr>\n",
       "      <th>0972683275</th>\n",
       "      <td>4.461187</td>\n",
       "      <td>207</td>\n",
       "    </tr>\n",
       "    <tr>\n",
       "      <th>1400501466</th>\n",
       "      <td>3.953488</td>\n",
       "      <td>186</td>\n",
       "    </tr>\n",
       "  </tbody>\n",
       "</table>\n",
       "</div>"
      ],
      "text/plain": [
       "             overall  helpful_yes\n",
       "asin                             \n",
       "0528881469  2.400000           64\n",
       "0594451647  4.200000            6\n",
       "0594481813  4.000000           10\n",
       "0972683275  4.461187          207\n",
       "1400501466  3.953488          186"
      ]
     },
     "execution_count": 84,
     "metadata": {},
     "output_type": "execute_result"
    }
   ],
   "source": [
    "df5.head()"
   ]
  },
  {
   "cell_type": "code",
   "execution_count": 86,
   "metadata": {
    "collapsed": false
   },
   "outputs": [
    {
     "data": {
      "text/plain": [
       "[<matplotlib.lines.Line2D at 0x512effd0>]"
      ]
     },
     "execution_count": 86,
     "metadata": {},
     "output_type": "execute_result"
    },
    {
     "data": {
      "image/png": "[encoded data removed]",
      "text/plain": [
       "<matplotlib.figure.Figure at 0x98950d30>"
      ]
     },
     "metadata": {},
     "output_type": "display_data"
    }
   ],
   "source": [
    "plt.plot(df5['overall'],df5['helpful_yes'])"
   ]
  },
  {
   "cell_type": "code",
   "execution_count": 90,
   "metadata": {
    "collapsed": false
   },
   "outputs": [
    {
     "data": {
      "text/plain": [
       "<matplotlib.text.Text at 0x9245f128>"
      ]
     },
     "execution_count": 90,
     "metadata": {},
     "output_type": "execute_result"
    },
    {
     "data": {
      "image/png": "[encoded data removed]",
      "text/plain": [
       "<matplotlib.figure.Figure at 0x92493898>"
      ]
     },
     "metadata": {},
     "output_type": "display_data"
    }
   ],
   "source": [
    "plt.scatter(df5['overall'],df5['helpful_yes'])\n",
    "plt.title(\"Total votes for helpfulness of Reviews v.s. Average Rating\")\n",
    "plt.xlabel(\"Average Rating\")\n",
    "plt.ylabel(\"Total votes\")"
   ]
  }
 ],
 "metadata": {
  "anaconda-cloud": {},
  "kernelspec": {
   "display_name": "Python [Root]",
   "language": "python",
   "name": "Python [Root]"
  },
  "language_info": {
   "codemirror_mode": {
    "name": "ipython",
    "version": 3
   },
   "file_extension": ".py",
   "mimetype": "text/x-python",
   "name": "python",
   "nbconvert_exporter": "python",
   "pygments_lexer": "ipython3",
   "version": "3.5.2"
  }
 },
 "nbformat": 4,
 "nbformat_minor": 0
}
